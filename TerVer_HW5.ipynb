{
 "cells": [
  {
   "cell_type": "code",
   "execution_count": 3,
   "id": "1cc91728",
   "metadata": {},
   "outputs": [
    {
     "data": {
      "text/plain": [
       "-1.6448536269514729"
      ]
     },
     "execution_count": 3,
     "metadata": {},
     "output_type": "execute_result"
    }
   ],
   "source": [
    "import numpy as np\n",
    "import pandas as pd\n",
    "from scipy import stats\n",
    "\n",
    "#z критерий для задачи 2\n",
    "alpha = 0.05\n",
    "t1=stats.norm.ppf(alpha)\n",
    "t1"
   ]
  },
  {
   "cell_type": "code",
   "execution_count": 10,
   "id": "0f1a5331",
   "metadata": {},
   "outputs": [
    {
     "data": {
      "text/plain": [
       "(array([172, 177, 158, 170, 178, 175, 164, 160, 169, 165]),\n",
       " array([173, 175, 162, 174, 175, 168, 155, 170, 160, 163]))"
      ]
     },
     "execution_count": 10,
     "metadata": {},
     "output_type": "execute_result"
    }
   ],
   "source": [
    "#задача 4: нулевая гипотеза M_mothers = M-daughters; альтернативная M_mothers =! M_daughters\n",
    "mothers = np.array([172, 177, 158, 170, 178,175, 164, 160, 169, 165])\n",
    "daughters = np.array([173, 175, 162, 174, 175, 168, 155, 170, 160, 163])\n",
    "mothers, daughters"
   ]
  },
  {
   "cell_type": "code",
   "execution_count": 14,
   "id": "cf19f9f5",
   "metadata": {},
   "outputs": [
    {
     "data": {
      "text/plain": [
       "168.8"
      ]
     },
     "execution_count": 14,
     "metadata": {},
     "output_type": "execute_result"
    }
   ],
   "source": [
    "#среднее в выборке матарей\n",
    "m_mean=np.mean(mothers)\n",
    "m_mean"
   ]
  },
  {
   "cell_type": "code",
   "execution_count": 15,
   "id": "6f1fc7d6",
   "metadata": {},
   "outputs": [
    {
     "data": {
      "text/plain": [
       "167.5"
      ]
     },
     "execution_count": 15,
     "metadata": {},
     "output_type": "execute_result"
    }
   ],
   "source": [
    "#среднее в выборке дочерей\n",
    "d_mean=np.mean(daughters)\n",
    "d_mean"
   ]
  },
  {
   "cell_type": "code",
   "execution_count": 16,
   "id": "ec4f3d51",
   "metadata": {},
   "outputs": [
    {
     "data": {
      "text/plain": [
       "(48.17777777777778, 50.5)"
      ]
     },
     "execution_count": 16,
     "metadata": {},
     "output_type": "execute_result"
    }
   ],
   "source": [
    "#найдем несмещенную дисперсию в выборках\n",
    "d_var=np.var(daughters, ddof=1)\n",
    "m_var=np.var(mothers, ddof=1)\n",
    "m_var, d_var"
   ]
  },
  {
   "cell_type": "code",
   "execution_count": 17,
   "id": "fed768b2",
   "metadata": {},
   "outputs": [
    {
     "data": {
      "text/plain": [
       "(6.584831053261731, 6.74166151627327)"
      ]
     },
     "execution_count": 17,
     "metadata": {},
     "output_type": "execute_result"
    }
   ],
   "source": [
    "#найдем СКО\n",
    "d_std=np.std(daughters)\n",
    "m_std=np.std(mothers)\n",
    "m_std, d_std"
   ]
  },
  {
   "cell_type": "code",
   "execution_count": 18,
   "id": "6811df96",
   "metadata": {},
   "outputs": [
    {
     "data": {
      "text/plain": [
       "(10, 10)"
      ]
     },
     "execution_count": 18,
     "metadata": {},
     "output_type": "execute_result"
    }
   ],
   "source": [
    "#найдем кол-во элементов в выборке\n",
    "m_len=len(mothers)\n",
    "d_len=len(daughters)\n",
    "m_len, d_len"
   ]
  },
  {
   "cell_type": "code",
   "execution_count": 19,
   "id": "0ef1029d",
   "metadata": {},
   "outputs": [
    {
     "data": {
      "text/plain": [
       "0.41384114976800535"
      ]
     },
     "execution_count": 19,
     "metadata": {},
     "output_type": "execute_result"
    }
   ],
   "source": [
    "#найдем наблюдаемое значение\n",
    "t_emp=(m_mean - d_mean)/np.sqrt(m_var/m_len + d_var/d_len)\n",
    "t_emp"
   ]
  },
  {
   "cell_type": "code",
   "execution_count": 20,
   "id": "3ded6484",
   "metadata": {},
   "outputs": [
    {
     "data": {
      "text/plain": [
       "(-2.10092204024096, 2.10092204024096)"
      ]
     },
     "execution_count": 20,
     "metadata": {},
     "output_type": "execute_result"
    }
   ],
   "source": [
    "#найдем критические значения по статистике стьюдента для двусторонней критической области (тк нет уверенности, что она односторонняя)\n",
    "alpha=0.05\n",
    "t1=stats.t.ppf(alpha/2, df=2*(m_len-1))\n",
    "t2=stats.t.ppf(1-alpha/2, df=2*(m_len-1))\n",
    "t1, t2"
   ]
  },
  {
   "cell_type": "code",
   "execution_count": 22,
   "id": "519ddf2c",
   "metadata": {},
   "outputs": [
    {
     "data": {
      "text/plain": [
       "Ttest_indResult(statistic=0.4138411497680053, pvalue=0.68387966499013)"
      ]
     },
     "execution_count": 22,
     "metadata": {},
     "output_type": "execute_result"
    }
   ],
   "source": [
    "#Вывод: нулеая гипотеза не отвергается, проверим тестом : p_value >альфа - H0 не отвергается\n",
    "#t1<t_emp<t2\n",
    "stats.ttest_ind(mothers, daughters)"
   ]
  },
  {
   "cell_type": "code",
   "execution_count": null,
   "id": "8cb25f52",
   "metadata": {},
   "outputs": [],
   "source": []
  }
 ],
 "metadata": {
  "kernelspec": {
   "display_name": "Python 3 (ipykernel)",
   "language": "python",
   "name": "python3"
  },
  "language_info": {
   "codemirror_mode": {
    "name": "ipython",
    "version": 3
   },
   "file_extension": ".py",
   "mimetype": "text/x-python",
   "name": "python",
   "nbconvert_exporter": "python",
   "pygments_lexer": "ipython3",
   "version": "3.9.13"
  }
 },
 "nbformat": 4,
 "nbformat_minor": 5
}
